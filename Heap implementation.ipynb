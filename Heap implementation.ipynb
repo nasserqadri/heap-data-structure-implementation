{
 "cells": [
  {
   "cell_type": "code",
   "execution_count": 39,
   "id": "787d420a",
   "metadata": {},
   "outputs": [],
   "source": [
    "CAPACITY = 10\n",
    "\n",
    "# max heap - root node will be max\n",
    "class Heap:\n",
    "    def __init__(self):\n",
    "        # current number of items in data structure\n",
    "        self.heap_size = 0\n",
    "        \n",
    "        # underlying list data structure\n",
    "        self.heap= [0] * CAPACITY\n",
    "        \n",
    "    def insert(self, item):\n",
    "        if self.heap_size == CAPACITY:\n",
    "            return\n",
    "        \n",
    "        self.heap[self.heap_size]=item\n",
    "        self.heap_size +=1 \n",
    "        \n",
    "        # check heap properties to make sure it's still valid\n",
    "        self.fix_up(self.heap_size-1)\n",
    "    \n",
    "    \n",
    "    def fix_up(self, index):\n",
    "        '''Starting with the actual node inserted up to root node,\n",
    "        compare the values and decide whether to swap. This will \n",
    "        have O(logN) runtime compelxity\n",
    "        '''\n",
    "        parent_index = (index-1)//2\n",
    "        \n",
    "        # keep running this recursively until heap properties are valid\n",
    "        if index > 0 and self.heap[index] > self.heap[parent_index]:\n",
    "            self.heap[index], self.heap[parent_index] = \\\n",
    "            self.heap[parent_index], self.heap[index]\n",
    "            self.fix_up(parent_index)\n",
    "        \n",
    "    def peek(self):\n",
    "        '''Return the max item in O(1) time complexity'''\n",
    "        \n",
    "        return self.heap[0]\n",
    "    \n",
    "    def poll(self):\n",
    "        '''Return the max item and remove it as well'''\n",
    "        \n",
    "        maxItem = self.peek()\n",
    "        self.heap[0], self.heap[self.heap_size-1] = self.heap[self.heap_size-1], self.heap[0] \n",
    "        self.heap_size -= 1\n",
    "        self.fix_down(0)\n",
    "        \n",
    "        return maxItem\n",
    "    \n",
    "    def fix_down(self, index):\n",
    "        '''Starting with the parent node and working down,\n",
    "        compare the values and decide whether to swap. This will have\n",
    "        O(logN) runtime complexity'''\n",
    "        \n",
    "        # get current item's children\n",
    "        l = 2*index +1\n",
    "        r = 2*index +2\n",
    "        \n",
    "        # tentatively assume the current item is larger than its children\n",
    "        largest_index = index\n",
    "        \n",
    "        # check to see if left child exists and is larger than current max\n",
    "        if l < self.heap_size and self.heap[l] > self.heap[index]:\n",
    "            largest_index = l\n",
    "        \n",
    "        # check to see if right child exists and is larger than current max\n",
    "        if r < self.heap_size and self.heap[r] > self.heap[largest_index]:\n",
    "            largest_index = r\n",
    "    \n",
    "        # if current index is not largest, then swap and recurse \n",
    "        # if it is the largest, then it is a valid heap and we can terminate\n",
    "        if index != largest_index:\n",
    "            self.heap[index], self.heap[largest_index] = self.heap[largest_index], self.heap[index]\n",
    "            self.fix_down(largest_index)\n",
    "            \n",
    "    def heap_sort(self):\n",
    "        \n",
    "        for _ in range(self.heap_size):\n",
    "            max_item = self.poll()\n",
    "            print(max_item)"
   ]
  },
  {
   "cell_type": "markdown",
   "id": "d3f95b6f",
   "metadata": {},
   "source": [
    "### Test this implementation"
   ]
  },
  {
   "cell_type": "code",
   "execution_count": 40,
   "id": "bb7e24f4",
   "metadata": {},
   "outputs": [
    {
     "name": "stdout",
     "output_type": "stream",
     "text": [
      "99\n",
      "13\n",
      "8\n",
      "1\n",
      "0\n",
      "-2\n",
      "-5\n"
     ]
    }
   ],
   "source": [
    "heap = Heap()\n",
    "heap.insert(13)\n",
    "heap.insert(-2)\n",
    "heap.insert(0)\n",
    "heap.insert(8)\n",
    "heap.insert(1)\n",
    "heap.insert(-5)\n",
    "heap.insert(99)\n",
    "\n",
    "heap.heap_sort()\n"
   ]
  },
  {
   "cell_type": "code",
   "execution_count": null,
   "id": "534ce89f",
   "metadata": {},
   "outputs": [],
   "source": []
  },
  {
   "cell_type": "markdown",
   "id": "51c073fb",
   "metadata": {},
   "source": [
    "# Using Python's heapq for minimum heap implementation\n",
    "\n",
    "heapq is default min-heap\n"
   ]
  },
  {
   "cell_type": "code",
   "execution_count": 45,
   "id": "3bb0a4b4",
   "metadata": {},
   "outputs": [],
   "source": [
    "import heapq"
   ]
  },
  {
   "cell_type": "code",
   "execution_count": 54,
   "id": "d3a5277c",
   "metadata": {},
   "outputs": [
    {
     "name": "stdout",
     "output_type": "stream",
     "text": [
      "[-2, 0, 1, 0, 6, 2, 4, 7, 3]\n"
     ]
    }
   ],
   "source": [
    "heap = [4,7,2,3,6,-2,1,0, 0]\n",
    "heapq.heapify(heap)\n",
    "print(heap)"
   ]
  },
  {
   "cell_type": "code",
   "execution_count": 55,
   "id": "81f1f65f",
   "metadata": {},
   "outputs": [
    {
     "name": "stdout",
     "output_type": "stream",
     "text": [
      "-2\n",
      "0\n",
      "1\n",
      "3\n",
      "4\n",
      "7\n"
     ]
    }
   ],
   "source": [
    "nums = [4,7,3,-2,1,0]\n",
    "heap = []\n",
    "for i in nums:\n",
    "    heapq.heappush(heap, i)\n",
    "\n",
    "while heap:\n",
    "    print(heapq.heappop(heap))\n",
    "    "
   ]
  },
  {
   "cell_type": "markdown",
   "id": "19adbac7",
   "metadata": {},
   "source": [
    "### Implementing max-heap using python's heapq\n",
    "\n",
    "The heapq module provides functions to maintain a heap queue, which is a priority queue that maintains the heap property: if x is a parent node of y in the heap, then the value of x is greater than or equal to the value of y.\n",
    "\n",
    "By default, the heapq module implements a min-heap, where the smallest element is always at the root. However, the heapq module also provides a way to create a max-heap by negating the values that are added to the heap. This allows the largest element to always be at the root.\n",
    "\n",
    "Here is an example of how to create a max-heap using the heapq module in Python:\n",
    "\n"
   ]
  },
  {
   "cell_type": "code",
   "execution_count": 56,
   "id": "0f544b62",
   "metadata": {},
   "outputs": [
    {
     "name": "stdout",
     "output_type": "stream",
     "text": [
      "5\n"
     ]
    }
   ],
   "source": [
    "import heapq\n",
    "\n",
    "# Create an empty max-heap\n",
    "max_heap = []\n",
    "\n",
    "# Add elements to the max-heap\n",
    "heapq.heappush(max_heap, -1)\n",
    "heapq.heappush(max_heap, -5)\n",
    "heapq.heappush(max_heap, -2)\n",
    "\n",
    "# Get the maximum element from the max-heap\n",
    "max_element = -heapq.heappop(max_heap)\n",
    "\n",
    "print(max_element)  # Output: 5\n"
   ]
  },
  {
   "cell_type": "markdown",
   "id": "9e755cda",
   "metadata": {},
   "source": [
    "In this example, we first create an empty max_heap list. We then add three elements to the heap using the heappush function, but negate their values. This creates a max-heap where the largest element is at the root, since we are effectively sorting the elements in descending order. Finally, we retrieve the maximum element from the max-heap by negating the result of heappop.\n",
    "\n",
    "Note that while Python's heapq module provides a way to create a max-heap, it is often easier to work with a min-heap and negate the values as necessary. This is because many of the functions and algorithms in the heapq module are designed to work with min-heaps by default.\n",
    "\n",
    "\n",
    "\n",
    "\n"
   ]
  }
 ],
 "metadata": {
  "kernelspec": {
   "display_name": "Python 3 (ipykernel)",
   "language": "python",
   "name": "python3"
  },
  "language_info": {
   "codemirror_mode": {
    "name": "ipython",
    "version": 3
   },
   "file_extension": ".py",
   "mimetype": "text/x-python",
   "name": "python",
   "nbconvert_exporter": "python",
   "pygments_lexer": "ipython3",
   "version": "3.11.3"
  }
 },
 "nbformat": 4,
 "nbformat_minor": 5
}
